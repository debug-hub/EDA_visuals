{
 "cells": [
  {
   "cell_type": "markdown",
   "metadata": {
    "id": "LYLMGUhavZgD"
   },
   "source": [
    "## Coffee Dataset EDA Project"
   ]
  },
  {
   "cell_type": "code",
   "execution_count": 1,
   "metadata": {
    "id": "wjCnpHj7vZgL"
   },
   "outputs": [],
   "source": [
    "import pandas as pd\n",
    "import matplotlib.pyplot as plt\n",
    "import numpy as np"
   ]
  },
  {
   "cell_type": "code",
   "execution_count": 3,
   "metadata": {
    "id": "i-Lt13G-vZgM",
    "outputId": "098a311a-660c-4394-85d5-483690751585"
   },
   "outputs": [
    {
     "data": {
      "text/html": [
       "<div>\n",
       "<style scoped>\n",
       "    .dataframe tbody tr th:only-of-type {\n",
       "        vertical-align: middle;\n",
       "    }\n",
       "\n",
       "    .dataframe tbody tr th {\n",
       "        vertical-align: top;\n",
       "    }\n",
       "\n",
       "    .dataframe thead th {\n",
       "        text-align: right;\n",
       "    }\n",
       "</style>\n",
       "<table border=\"1\" class=\"dataframe\">\n",
       "  <thead>\n",
       "    <tr style=\"text-align: right;\">\n",
       "      <th></th>\n",
       "      <th>Area Code</th>\n",
       "      <th>Date</th>\n",
       "      <th>Market</th>\n",
       "      <th>Market Size</th>\n",
       "      <th>Product</th>\n",
       "      <th>Product Line</th>\n",
       "      <th>Product Type</th>\n",
       "      <th>State</th>\n",
       "      <th>Type</th>\n",
       "      <th>Budget COGS</th>\n",
       "      <th>Budget Margin</th>\n",
       "      <th>Budget Profit</th>\n",
       "      <th>Budget Sales</th>\n",
       "      <th>COGS</th>\n",
       "      <th>Inventory</th>\n",
       "      <th>Margin</th>\n",
       "      <th>Marketing</th>\n",
       "      <th>Profit</th>\n",
       "      <th>Sales</th>\n",
       "      <th>Total Expenses</th>\n",
       "    </tr>\n",
       "  </thead>\n",
       "  <tbody>\n",
       "    <tr>\n",
       "      <th>0</th>\n",
       "      <td>719</td>\n",
       "      <td>40909</td>\n",
       "      <td>Central</td>\n",
       "      <td>Major Market</td>\n",
       "      <td>Amaretto</td>\n",
       "      <td>Beans</td>\n",
       "      <td>Coffee</td>\n",
       "      <td>Colorado</td>\n",
       "      <td>Regular</td>\n",
       "      <td>90</td>\n",
       "      <td>130</td>\n",
       "      <td>100</td>\n",
       "      <td>220</td>\n",
       "      <td>89</td>\n",
       "      <td>777</td>\n",
       "      <td>130</td>\n",
       "      <td>24</td>\n",
       "      <td>94</td>\n",
       "      <td>219</td>\n",
       "      <td>36</td>\n",
       "    </tr>\n",
       "    <tr>\n",
       "      <th>1</th>\n",
       "      <td>970</td>\n",
       "      <td>40909</td>\n",
       "      <td>Central</td>\n",
       "      <td>Major Market</td>\n",
       "      <td>Colombian</td>\n",
       "      <td>Beans</td>\n",
       "      <td>Coffee</td>\n",
       "      <td>Colorado</td>\n",
       "      <td>Regular</td>\n",
       "      <td>80</td>\n",
       "      <td>110</td>\n",
       "      <td>80</td>\n",
       "      <td>190</td>\n",
       "      <td>83</td>\n",
       "      <td>623</td>\n",
       "      <td>107</td>\n",
       "      <td>27</td>\n",
       "      <td>68</td>\n",
       "      <td>190</td>\n",
       "      <td>39</td>\n",
       "    </tr>\n",
       "    <tr>\n",
       "      <th>2</th>\n",
       "      <td>970</td>\n",
       "      <td>40909</td>\n",
       "      <td>Central</td>\n",
       "      <td>Major Market</td>\n",
       "      <td>Decaf Irish Cream</td>\n",
       "      <td>Beans</td>\n",
       "      <td>Coffee</td>\n",
       "      <td>Colorado</td>\n",
       "      <td>Decaf</td>\n",
       "      <td>100</td>\n",
       "      <td>140</td>\n",
       "      <td>110</td>\n",
       "      <td>240</td>\n",
       "      <td>95</td>\n",
       "      <td>821</td>\n",
       "      <td>139</td>\n",
       "      <td>26</td>\n",
       "      <td>101</td>\n",
       "      <td>234</td>\n",
       "      <td>38</td>\n",
       "    </tr>\n",
       "    <tr>\n",
       "      <th>3</th>\n",
       "      <td>303</td>\n",
       "      <td>40909</td>\n",
       "      <td>Central</td>\n",
       "      <td>Major Market</td>\n",
       "      <td>Green Tea</td>\n",
       "      <td>Leaves</td>\n",
       "      <td>Tea</td>\n",
       "      <td>Colorado</td>\n",
       "      <td>Regular</td>\n",
       "      <td>30</td>\n",
       "      <td>50</td>\n",
       "      <td>30</td>\n",
       "      <td>80</td>\n",
       "      <td>44</td>\n",
       "      <td>623</td>\n",
       "      <td>56</td>\n",
       "      <td>14</td>\n",
       "      <td>30</td>\n",
       "      <td>100</td>\n",
       "      <td>26</td>\n",
       "    </tr>\n",
       "    <tr>\n",
       "      <th>4</th>\n",
       "      <td>303</td>\n",
       "      <td>40909</td>\n",
       "      <td>Central</td>\n",
       "      <td>Major Market</td>\n",
       "      <td>Caffe Mocha</td>\n",
       "      <td>Beans</td>\n",
       "      <td>Espresso</td>\n",
       "      <td>Colorado</td>\n",
       "      <td>Regular</td>\n",
       "      <td>60</td>\n",
       "      <td>90</td>\n",
       "      <td>70</td>\n",
       "      <td>150</td>\n",
       "      <td>54</td>\n",
       "      <td>456</td>\n",
       "      <td>80</td>\n",
       "      <td>15</td>\n",
       "      <td>54</td>\n",
       "      <td>134</td>\n",
       "      <td>26</td>\n",
       "    </tr>\n",
       "  </tbody>\n",
       "</table>\n",
       "</div>"
      ],
      "text/plain": [
       "   Area Code   Date   Market   Market Size            Product Product Line  \\\n",
       "0        719  40909  Central  Major Market           Amaretto        Beans   \n",
       "1        970  40909  Central  Major Market          Colombian        Beans   \n",
       "2        970  40909  Central  Major Market  Decaf Irish Cream        Beans   \n",
       "3        303  40909  Central  Major Market          Green Tea       Leaves   \n",
       "4        303  40909  Central  Major Market        Caffe Mocha        Beans   \n",
       "\n",
       "  Product Type     State     Type  Budget COGS  Budget Margin  Budget Profit  \\\n",
       "0       Coffee  Colorado  Regular           90            130            100   \n",
       "1       Coffee  Colorado  Regular           80            110             80   \n",
       "2       Coffee  Colorado    Decaf          100            140            110   \n",
       "3          Tea  Colorado  Regular           30             50             30   \n",
       "4     Espresso  Colorado  Regular           60             90             70   \n",
       "\n",
       "   Budget Sales  COGS  Inventory  Margin  Marketing  Profit  Sales  \\\n",
       "0           220    89        777     130         24      94    219   \n",
       "1           190    83        623     107         27      68    190   \n",
       "2           240    95        821     139         26     101    234   \n",
       "3            80    44        623      56         14      30    100   \n",
       "4           150    54        456      80         15      54    134   \n",
       "\n",
       "   Total Expenses  \n",
       "0              36  \n",
       "1              39  \n",
       "2              38  \n",
       "3              26  \n",
       "4              26  "
      ]
     },
     "execution_count": 3,
     "metadata": {},
     "output_type": "execute_result"
    }
   ],
   "source": [
    "df = pd.read_excel('Coffee.xlsx')\n",
    "df.head()"
   ]
  },
  {
   "cell_type": "markdown",
   "metadata": {
    "id": "FHS0dHQbvZgP"
   },
   "source": [
    "### 2) Remove handle null values"
   ]
  },
  {
   "cell_type": "code",
   "execution_count": 4,
   "metadata": {
    "id": "oaZatWolvZgQ",
    "outputId": "d845f5c5-12eb-4d0a-9dac-5ce94dfe63f4"
   },
   "outputs": [
    {
     "data": {
      "text/plain": [
       "Area Code         0\n",
       "Date              0\n",
       "Market            0\n",
       "Market Size       0\n",
       "Product           0\n",
       "Product Line      0\n",
       "Product Type      0\n",
       "State             0\n",
       "Type              0\n",
       "Budget COGS       0\n",
       "Budget Margin     0\n",
       "Budget Profit     0\n",
       "Budget Sales      0\n",
       "COGS              0\n",
       "Inventory         0\n",
       "Margin            0\n",
       "Marketing         0\n",
       "Profit            0\n",
       "Sales             0\n",
       "Total Expenses    0\n",
       "dtype: int64"
      ]
     },
     "execution_count": 4,
     "metadata": {},
     "output_type": "execute_result"
    }
   ],
   "source": [
    "df.isnull().sum()\n",
    "# fillna()\n",
    "# dropna()"
   ]
  },
  {
   "cell_type": "markdown",
   "metadata": {
    "id": "kdZYrxSkvZgR"
   },
   "source": [
    "### 3) Depict different Market types and their count on a bar chart"
   ]
  },
  {
   "cell_type": "code",
   "execution_count": null,
   "metadata": {
    "id": "2L97oOA0vZgT",
    "outputId": "44731e99-4ce8-4ba0-d01c-7d22933956bc"
   },
   "outputs": [
    {
     "data": {
      "text/plain": [
       "Central    1344\n",
       "West       1344\n",
       "East        888\n",
       "South       672\n",
       "Name: Market, dtype: int64"
      ]
     },
     "execution_count": 5,
     "metadata": {
      "tags": []
     },
     "output_type": "execute_result"
    }
   ],
   "source": [
    "d1 = df['Market'].value_counts()\n",
    "d1"
   ]
  },
  {
   "cell_type": "code",
   "execution_count": null,
   "metadata": {
    "id": "UhUaty-IvZgV",
    "outputId": "8d6018b6-05ea-464e-dc01-3d3f080d800e"
   },
   "outputs": [
    {
     "data": {
      "image/png": "[encoded data removed]",
      "text/plain": [
       "<Figure size 432x288 with 1 Axes>"
      ]
     },
     "metadata": {
      "needs_background": "light",
      "tags": []
     },
     "output_type": "display_data"
    }
   ],
   "source": [
    "plt.bar(d1.index,d1)\n",
    "plt.show()"
   ]
  },
  {
   "cell_type": "markdown",
   "metadata": {},
   "source": [
    "4) Depict different Product types and their count on a line chart"
   ]
  },
  {
   "cell_type": "code",
   "execution_count": 12,
   "metadata": {},
   "outputs": [
    {
     "data": {
      "text/plain": [
       "Lemon                480\n",
       "Caffe Mocha          480\n",
       "Colombian            480\n",
       "Decaf Espresso       408\n",
       "Darjeeling           384\n",
       "Chamomile            384\n",
       "Decaf Irish Cream    384\n",
       "Green Tea            288\n",
       "Earl Grey            288\n",
       "Caffe Latte          216\n",
       "Mint                 192\n",
       "Amaretto             192\n",
       "Regular Espresso      72\n",
       "Name: Product, dtype: int64"
      ]
     },
     "execution_count": 12,
     "metadata": {},
     "output_type": "execute_result"
    }
   ],
   "source": [
    "a1 = df['Product'].value_counts()\n",
    "a1"
   ]
  },
  {
   "cell_type": "code",
   "execution_count": 16,
   "metadata": {},
   "outputs": [
    {
     "data": {
      "image/png": "[encoded data removed]",
      "text/plain": [
       "<Figure size 432x288 with 1 Axes>"
      ]
     },
     "metadata": {
      "needs_background": "light"
     },
     "output_type": "display_data"
    }
   ],
   "source": [
    "plt.plot(a1.index,a1)\n",
    "plt.xticks(rotation=90)\n",
    "plt.show()"
   ]
  },
  {
   "cell_type": "markdown",
   "metadata": {},
   "source": [
    "5) Depict different State and their percentage distribution on a pie chart"
   ]
  },
  {
   "cell_type": "code",
   "execution_count": 19,
   "metadata": {},
   "outputs": [
    {
     "data": {
      "text/plain": [
       "Utah             288\n",
       "California       288\n",
       "Colorado         264\n",
       "Nevada           264\n",
       "Oregon           264\n",
       "Washington       240\n",
       "Illinois         216\n",
       "Iowa             216\n",
       "Florida          216\n",
       "Wisconsin        216\n",
       "Ohio             216\n",
       "Missouri         216\n",
       "New York         192\n",
       "Texas            168\n",
       "New Hampshire    168\n",
       "Oklahoma         168\n",
       "New Mexico       168\n",
       "Louisiana        168\n",
       "Connecticut      168\n",
       "Massachusetts    144\n",
       "Name: State, dtype: int64"
      ]
     },
     "execution_count": 19,
     "metadata": {},
     "output_type": "execute_result"
    }
   ],
   "source": [
    "a2 = df['State'].value_counts()\n",
    "a2"
   ]
  },
  {
   "cell_type": "code",
   "execution_count": 23,
   "metadata": {},
   "outputs": [
    {
     "ename": "NameError",
     "evalue": "name 'State' is not defined",
     "output_type": "error",
     "traceback": [
      "\u001b[1;31m---------------------------------------------------------------------------\u001b[0m",
      "\u001b[1;31mNameError\u001b[0m                                 Traceback (most recent call last)",
      "\u001b[1;32m<ipython-input-23-acef554b7e75>\u001b[0m in \u001b[0;36m<module>\u001b[1;34m\u001b[0m\n\u001b[1;32m----> 1\u001b[1;33m \u001b[0mplt\u001b[0m\u001b[1;33m.\u001b[0m\u001b[0mpie\u001b[0m\u001b[1;33m(\u001b[0m\u001b[0mState\u001b[0m\u001b[1;33m,\u001b[0m\u001b[0mautopct\u001b[0m\u001b[1;33m=\u001b[0m\u001b[1;34m\"%%2f%%\"\u001b[0m\u001b[1;33m)\u001b[0m\u001b[1;33m\u001b[0m\u001b[1;33m\u001b[0m\u001b[0m\n\u001b[0m\u001b[0;32m      2\u001b[0m \u001b[0mplt\u001b[0m\u001b[1;33m.\u001b[0m\u001b[0mshow\u001b[0m\u001b[1;33m\u001b[0m\u001b[1;33m\u001b[0m\u001b[0m\n",
      "\u001b[1;31mNameError\u001b[0m: name 'State' is not defined"
     ]
    }
   ],
   "source": [
    "plt.pie(State,autopct=\"%%2f%%\")\n",
    "plt.show"
   ]
  },
  {
   "cell_type": "markdown",
   "metadata": {
    "id": "TQcg4UbRvZgX"
   },
   "source": [
    "### 6) Depict Market wise sum of Profit and depict the result on bar chart."
   ]
  },
  {
   "cell_type": "code",
   "execution_count": null,
   "metadata": {
    "id": "yzm6Gy3NvZgX",
    "outputId": "8d0f0626-e9b2-41fa-f8eb-89e10bff39b0"
   },
   "outputs": [
    {
     "data": {
      "text/plain": [
       "Market\n",
       "Central    93852\n",
       "East       59217\n",
       "South      32478\n",
       "West       73996\n",
       "Name: Profit, dtype: int64"
      ]
     },
     "execution_count": 7,
     "metadata": {
      "tags": []
     },
     "output_type": "execute_result"
    }
   ],
   "source": [
    "d2 = df.groupby(['Market'])['Profit'].sum()\n",
    "d2"
   ]
  },
  {
   "cell_type": "code",
   "execution_count": null,
   "metadata": {
    "id": "k5tmcbfPvZgY",
    "outputId": "240e1503-188d-4d2e-e1d7-85726cbb2560"
   },
   "outputs": [
    {
     "data": {
      "text/plain": [
       "pandas.core.series.Series"
      ]
     },
     "execution_count": 9,
     "metadata": {
      "tags": []
     },
     "output_type": "execute_result"
    }
   ],
   "source": [
    "type(d2)"
   ]
  },
  {
   "cell_type": "code",
   "execution_count": null,
   "metadata": {
    "id": "Ws3-Qff8vZgZ",
    "outputId": "5a9b5371-ad79-485e-e3e1-218f8fd15ef8"
   },
   "outputs": [
    {
     "data": {
      "image/png": "[encoded data removed]",
      "text/plain": [
       "<Figure size 432x288 with 1 Axes>"
      ]
     },
     "metadata": {
      "needs_background": "light",
      "tags": []
     },
     "output_type": "display_data"
    }
   ],
   "source": [
    "plt.bar(d2.index,d2,color='maroon')\n",
    "plt.show()"
   ]
  },
  {
   "cell_type": "markdown",
   "metadata": {
    "id": "_VHGSrEhvZga"
   },
   "source": [
    "### 7) Depict Product wise mean of Sales and depict the result on bar chart and line chart superimposed"
   ]
  },
  {
   "cell_type": "code",
   "execution_count": null,
   "metadata": {
    "id": "Lwl8YMPsvZgb",
    "outputId": "e5db61ec-c978-4e5a-a339-dc8dbecf0d2f"
   },
   "outputs": [
    {
     "data": {
      "text/plain": [
       "Product\n",
       "Amaretto             136.817708\n",
       "Caffe Latte          166.199074\n",
       "Caffe Mocha          176.883333\n",
       "Chamomile            196.817708\n",
       "Colombian            267.314583\n",
       "Darjeeling           190.497396\n",
       "Decaf Espresso       191.573529\n",
       "Decaf Irish Cream    162.104167\n",
       "Earl Grey            231.847222\n",
       "Green Tea            114.062500\n",
       "Lemon                199.845833\n",
       "Mint                 185.989583\n",
       "Regular Espresso     333.763889\n",
       "Name: Sales, dtype: float64"
      ]
     },
     "execution_count": 14,
     "metadata": {
      "tags": []
     },
     "output_type": "execute_result"
    }
   ],
   "source": [
    "d3 = df.groupby(['Product'])['Sales'].mean()\n",
    "d3"
   ]
  },
  {
   "cell_type": "code",
   "execution_count": null,
   "metadata": {
    "id": "cVnLPHxRvZgb",
    "outputId": "15e5fc8c-ee45-468d-bbd2-392dc0095bdd"
   },
   "outputs": [
    {
     "data": {
      "image/png": "[encoded data removed]",
      "text/plain": [
       "<Figure size 432x288 with 1 Axes>"
      ]
     },
     "metadata": {
      "needs_background": "light",
      "tags": []
     },
     "output_type": "display_data"
    }
   ],
   "source": [
    "plt.bar(d3.index,d3,color='lightgreen')\n",
    "plt.plot(d3.index,d3,color='orange')\n",
    "plt.xticks(rotation=90)\n",
    "plt.show()"
   ]
  },
  {
   "cell_type": "markdown",
   "metadata": {
    "id": "-KnyhQ54vZgc"
   },
   "source": [
    "### 8) Depcit Profit vs Sales on a Scatter Chart where Product is 'Regular Espresso'"
   ]
  },
  {
   "cell_type": "code",
   "execution_count": null,
   "metadata": {
    "id": "qzEA8h_cvZgd",
    "outputId": "12ca97a8-5d1a-4c4e-86d4-223d80bf5244"
   },
   "outputs": [
    {
     "data": {
      "text/plain": [
       "Colombian            480\n",
       "Caffe Mocha          480\n",
       "Lemon                480\n",
       "Decaf Espresso       408\n",
       "Chamomile            384\n",
       "Decaf Irish Cream    384\n",
       "Darjeeling           384\n",
       "Green Tea            288\n",
       "Earl Grey            288\n",
       "Caffe Latte          216\n",
       "Mint                 192\n",
       "Amaretto             192\n",
       "Regular Espresso      72\n",
       "Name: Product, dtype: int64"
      ]
     },
     "execution_count": 19,
     "metadata": {
      "tags": []
     },
     "output_type": "execute_result"
    }
   ],
   "source": [
    "df['Product'].value_counts()"
   ]
  },
  {
   "cell_type": "code",
   "execution_count": null,
   "metadata": {
    "id": "2fQJGjXpvZgd",
    "outputId": "ec76aa41-d43e-4966-bc71-aa5823850db3"
   },
   "outputs": [
    {
     "data": {
      "text/plain": [
       "(72, 20)"
      ]
     },
     "execution_count": 21,
     "metadata": {
      "tags": []
     },
     "output_type": "execute_result"
    }
   ],
   "source": [
    "d4 = df[df['Product']=='Regular Espresso']\n",
    "d4.shape"
   ]
  },
  {
   "cell_type": "code",
   "execution_count": null,
   "metadata": {
    "id": "8TOffuy3vZge",
    "outputId": "af42982f-7251-4cd2-c156-8d6f3372fbcf"
   },
   "outputs": [
    {
     "data": {
      "image/png": "[encoded data removed]",
      "text/plain": [
       "<Figure size 432x288 with 1 Axes>"
      ]
     },
     "metadata": {
      "needs_background": "light",
      "tags": []
     },
     "output_type": "display_data"
    }
   ],
   "source": [
    "plt.scatter(d4['Profit'],d4['Sales'],color='green',marker='*')\n",
    "plt.show()"
   ]
  },
  {
   "cell_type": "markdown",
   "metadata": {
    "id": "1fHs5vEGvZge"
   },
   "source": [
    "### 9) Depict Budget Profit vs Budget Sales on a Scatter Chart where State is California and Product is 'Earl Grey'"
   ]
  },
  {
   "cell_type": "code",
   "execution_count": null,
   "metadata": {
    "id": "RBXOYGsQvZgf",
    "outputId": "4a51ddd8-4671-4002-a971-46942acd8ed2"
   },
   "outputs": [
    {
     "data": {
      "text/plain": [
       "California       288\n",
       "Utah             288\n",
       "Oregon           264\n",
       "Nevada           264\n",
       "Colorado         264\n",
       "Washington       240\n",
       "Ohio             216\n",
       "Wisconsin        216\n",
       "Illinois         216\n",
       "Florida          216\n",
       "Missouri         216\n",
       "Iowa             216\n",
       "New York         192\n",
       "Oklahoma         168\n",
       "New Hampshire    168\n",
       "Louisiana        168\n",
       "Connecticut      168\n",
       "Texas            168\n",
       "New Mexico       168\n",
       "Massachusetts    144\n",
       "Name: State, dtype: int64"
      ]
     },
     "execution_count": 24,
     "metadata": {
      "tags": []
     },
     "output_type": "execute_result"
    }
   ],
   "source": [
    "df['State'].value_counts()"
   ]
  },
  {
   "cell_type": "code",
   "execution_count": null,
   "metadata": {
    "id": "_kKmQ0fivZgf",
    "outputId": "de6a8189-87d4-4255-d396-eb1add6966d5"
   },
   "outputs": [
    {
     "data": {
      "text/plain": [
       "Colombian            480\n",
       "Caffe Mocha          480\n",
       "Lemon                480\n",
       "Decaf Espresso       408\n",
       "Chamomile            384\n",
       "Decaf Irish Cream    384\n",
       "Darjeeling           384\n",
       "Green Tea            288\n",
       "Earl Grey            288\n",
       "Caffe Latte          216\n",
       "Mint                 192\n",
       "Amaretto             192\n",
       "Regular Espresso      72\n",
       "Name: Product, dtype: int64"
      ]
     },
     "execution_count": 25,
     "metadata": {
      "tags": []
     },
     "output_type": "execute_result"
    }
   ],
   "source": [
    "df['Product'].value_counts()"
   ]
  },
  {
   "cell_type": "code",
   "execution_count": null,
   "metadata": {
    "id": "VDA0CtKFvZgg",
    "outputId": "3563c180-1427-406e-ce4f-44bc7e2a260e"
   },
   "outputs": [
    {
     "data": {
      "text/plain": [
       "(24, 20)"
      ]
     },
     "execution_count": 31,
     "metadata": {
      "tags": []
     },
     "output_type": "execute_result"
    }
   ],
   "source": [
    "d5 = df[(df['State']=='California') & (df['Product']=='Earl Grey')]\n",
    "d5.shape"
   ]
  },
  {
   "cell_type": "code",
   "execution_count": null,
   "metadata": {
    "id": "cXsngVegvZgh",
    "outputId": "5db0a65f-bd34-4098-c96e-87caccbb0df5"
   },
   "outputs": [
    {
     "data": {
      "text/html": [
       "<div>\n",
       "<style scoped>\n",
       "    .dataframe tbody tr th:only-of-type {\n",
       "        vertical-align: middle;\n",
       "    }\n",
       "\n",
       "    .dataframe tbody tr th {\n",
       "        vertical-align: top;\n",
       "    }\n",
       "\n",
       "    .dataframe thead th {\n",
       "        text-align: right;\n",
       "    }\n",
       "</style>\n",
       "<table border=\"1\" class=\"dataframe\">\n",
       "  <thead>\n",
       "    <tr style=\"text-align: right;\">\n",
       "      <th></th>\n",
       "      <th>State</th>\n",
       "      <th>Product</th>\n",
       "      <th>Budget Profit</th>\n",
       "      <th>Budget Sales</th>\n",
       "    </tr>\n",
       "  </thead>\n",
       "  <tbody>\n",
       "    <tr>\n",
       "      <th>140</th>\n",
       "      <td>California</td>\n",
       "      <td>Earl Grey</td>\n",
       "      <td>60</td>\n",
       "      <td>90</td>\n",
       "    </tr>\n",
       "    <tr>\n",
       "      <th>317</th>\n",
       "      <td>California</td>\n",
       "      <td>Earl Grey</td>\n",
       "      <td>60</td>\n",
       "      <td>120</td>\n",
       "    </tr>\n",
       "    <tr>\n",
       "      <th>495</th>\n",
       "      <td>California</td>\n",
       "      <td>Earl Grey</td>\n",
       "      <td>70</td>\n",
       "      <td>130</td>\n",
       "    </tr>\n",
       "    <tr>\n",
       "      <th>674</th>\n",
       "      <td>California</td>\n",
       "      <td>Earl Grey</td>\n",
       "      <td>70</td>\n",
       "      <td>130</td>\n",
       "    </tr>\n",
       "    <tr>\n",
       "      <th>851</th>\n",
       "      <td>California</td>\n",
       "      <td>Earl Grey</td>\n",
       "      <td>80</td>\n",
       "      <td>140</td>\n",
       "    </tr>\n",
       "    <tr>\n",
       "      <th>1027</th>\n",
       "      <td>California</td>\n",
       "      <td>Earl Grey</td>\n",
       "      <td>80</td>\n",
       "      <td>150</td>\n",
       "    </tr>\n",
       "    <tr>\n",
       "      <th>1201</th>\n",
       "      <td>California</td>\n",
       "      <td>Earl Grey</td>\n",
       "      <td>80</td>\n",
       "      <td>150</td>\n",
       "    </tr>\n",
       "    <tr>\n",
       "      <th>1378</th>\n",
       "      <td>California</td>\n",
       "      <td>Earl Grey</td>\n",
       "      <td>90</td>\n",
       "      <td>160</td>\n",
       "    </tr>\n",
       "    <tr>\n",
       "      <th>1555</th>\n",
       "      <td>California</td>\n",
       "      <td>Earl Grey</td>\n",
       "      <td>70</td>\n",
       "      <td>130</td>\n",
       "    </tr>\n",
       "    <tr>\n",
       "      <th>1730</th>\n",
       "      <td>California</td>\n",
       "      <td>Earl Grey</td>\n",
       "      <td>50</td>\n",
       "      <td>80</td>\n",
       "    </tr>\n",
       "    <tr>\n",
       "      <th>1907</th>\n",
       "      <td>California</td>\n",
       "      <td>Earl Grey</td>\n",
       "      <td>40</td>\n",
       "      <td>80</td>\n",
       "    </tr>\n",
       "    <tr>\n",
       "      <th>2084</th>\n",
       "      <td>California</td>\n",
       "      <td>Earl Grey</td>\n",
       "      <td>50</td>\n",
       "      <td>90</td>\n",
       "    </tr>\n",
       "    <tr>\n",
       "      <th>2261</th>\n",
       "      <td>California</td>\n",
       "      <td>Earl Grey</td>\n",
       "      <td>60</td>\n",
       "      <td>90</td>\n",
       "    </tr>\n",
       "    <tr>\n",
       "      <th>2438</th>\n",
       "      <td>California</td>\n",
       "      <td>Earl Grey</td>\n",
       "      <td>60</td>\n",
       "      <td>120</td>\n",
       "    </tr>\n",
       "    <tr>\n",
       "      <th>2615</th>\n",
       "      <td>California</td>\n",
       "      <td>Earl Grey</td>\n",
       "      <td>70</td>\n",
       "      <td>130</td>\n",
       "    </tr>\n",
       "    <tr>\n",
       "      <th>2792</th>\n",
       "      <td>California</td>\n",
       "      <td>Earl Grey</td>\n",
       "      <td>70</td>\n",
       "      <td>130</td>\n",
       "    </tr>\n",
       "    <tr>\n",
       "      <th>2969</th>\n",
       "      <td>California</td>\n",
       "      <td>Earl Grey</td>\n",
       "      <td>80</td>\n",
       "      <td>140</td>\n",
       "    </tr>\n",
       "    <tr>\n",
       "      <th>3146</th>\n",
       "      <td>California</td>\n",
       "      <td>Earl Grey</td>\n",
       "      <td>80</td>\n",
       "      <td>150</td>\n",
       "    </tr>\n",
       "    <tr>\n",
       "      <th>3319</th>\n",
       "      <td>California</td>\n",
       "      <td>Earl Grey</td>\n",
       "      <td>80</td>\n",
       "      <td>150</td>\n",
       "    </tr>\n",
       "    <tr>\n",
       "      <th>3497</th>\n",
       "      <td>California</td>\n",
       "      <td>Earl Grey</td>\n",
       "      <td>90</td>\n",
       "      <td>160</td>\n",
       "    </tr>\n",
       "    <tr>\n",
       "      <th>3674</th>\n",
       "      <td>California</td>\n",
       "      <td>Earl Grey</td>\n",
       "      <td>70</td>\n",
       "      <td>130</td>\n",
       "    </tr>\n",
       "    <tr>\n",
       "      <th>3851</th>\n",
       "      <td>California</td>\n",
       "      <td>Earl Grey</td>\n",
       "      <td>50</td>\n",
       "      <td>80</td>\n",
       "    </tr>\n",
       "    <tr>\n",
       "      <th>4028</th>\n",
       "      <td>California</td>\n",
       "      <td>Earl Grey</td>\n",
       "      <td>40</td>\n",
       "      <td>80</td>\n",
       "    </tr>\n",
       "    <tr>\n",
       "      <th>4205</th>\n",
       "      <td>California</td>\n",
       "      <td>Earl Grey</td>\n",
       "      <td>50</td>\n",
       "      <td>90</td>\n",
       "    </tr>\n",
       "  </tbody>\n",
       "</table>\n",
       "</div>"
      ],
      "text/plain": [
       "           State    Product  Budget Profit  Budget Sales\n",
       "140   California  Earl Grey             60            90\n",
       "317   California  Earl Grey             60           120\n",
       "495   California  Earl Grey             70           130\n",
       "674   California  Earl Grey             70           130\n",
       "851   California  Earl Grey             80           140\n",
       "1027  California  Earl Grey             80           150\n",
       "1201  California  Earl Grey             80           150\n",
       "1378  California  Earl Grey             90           160\n",
       "1555  California  Earl Grey             70           130\n",
       "1730  California  Earl Grey             50            80\n",
       "1907  California  Earl Grey             40            80\n",
       "2084  California  Earl Grey             50            90\n",
       "2261  California  Earl Grey             60            90\n",
       "2438  California  Earl Grey             60           120\n",
       "2615  California  Earl Grey             70           130\n",
       "2792  California  Earl Grey             70           130\n",
       "2969  California  Earl Grey             80           140\n",
       "3146  California  Earl Grey             80           150\n",
       "3319  California  Earl Grey             80           150\n",
       "3497  California  Earl Grey             90           160\n",
       "3674  California  Earl Grey             70           130\n",
       "3851  California  Earl Grey             50            80\n",
       "4028  California  Earl Grey             40            80\n",
       "4205  California  Earl Grey             50            90"
      ]
     },
     "execution_count": 35,
     "metadata": {
      "tags": []
     },
     "output_type": "execute_result"
    }
   ],
   "source": [
    "d5[['State','Product','Budget Profit','Budget Sales']]"
   ]
  },
  {
   "cell_type": "code",
   "execution_count": null,
   "metadata": {
    "id": "FpZZ9nEtvZgh",
    "outputId": "c9db01dd-6ee8-4713-ba8e-728e5c5e4280"
   },
   "outputs": [
    {
     "data": {
      "image/png": "[encoded data removed]",
      "text/plain": [
       "<Figure size 432x288 with 1 Axes>"
      ]
     },
     "metadata": {
      "needs_background": "light",
      "tags": []
     },
     "output_type": "display_data"
    }
   ],
   "source": [
    "plt.scatter(d5['Budget Profit'],d5['Budget Sales'],color='orange',marker='*')\n",
    "plt.show()"
   ]
  },
  {
   "cell_type": "markdown",
   "metadata": {
    "id": "8FODVDq4vZgi"
   },
   "source": [
    "### 10) Depict Market wise mean of Budget Sales and mean of Sales in a stacked bar chart"
   ]
  },
  {
   "cell_type": "code",
   "execution_count": null,
   "metadata": {
    "id": "c27-W00PvZgi",
    "outputId": "c3ffebbf-a87d-4f8f-918d-550a7c5c99d4"
   },
   "outputs": [
    {
     "name": "stdout",
     "output_type": "stream",
     "text": [
      "(4,)\n",
      "(4,)\n"
     ]
    }
   ],
   "source": [
    "d6 = df.groupby(['Market'])['Budget Sales'].mean()\n",
    "d7 = df.groupby(['Market'])['Sales'].mean()\n",
    "print(d6.shape)\n",
    "print(d7.shape)"
   ]
  },
  {
   "cell_type": "code",
   "execution_count": null,
   "metadata": {
    "id": "7TCD23MevZgi",
    "outputId": "7e07356c-0a1e-4fe9-a8f2-006c842cd714"
   },
   "outputs": [
    {
     "data": {
      "text/plain": [
       "Market\n",
       "Central    186.279762\n",
       "East       177.815315\n",
       "South      146.130952\n",
       "West       178.348214\n",
       "Name: Budget Sales, dtype: float64"
      ]
     },
     "execution_count": 37,
     "metadata": {
      "tags": []
     },
     "output_type": "execute_result"
    }
   ],
   "source": [
    "d6"
   ]
  },
  {
   "cell_type": "code",
   "execution_count": null,
   "metadata": {
    "id": "hDByf6CPvZgj",
    "outputId": "ae0f1664-79f2-4aac-e83f-4934e86b1b15"
   },
   "outputs": [
    {
     "data": {
      "text/plain": [
       "Market\n",
       "Central    197.206101\n",
       "East       201.099099\n",
       "South      154.651786\n",
       "West       202.577381\n",
       "Name: Sales, dtype: float64"
      ]
     },
     "execution_count": 38,
     "metadata": {
      "tags": []
     },
     "output_type": "execute_result"
    }
   ],
   "source": [
    "d7"
   ]
  },
  {
   "cell_type": "code",
   "execution_count": null,
   "metadata": {
    "id": "JlKDBhifvZgj",
    "outputId": "74100965-8303-4b25-b9b2-77f8070ae174"
   },
   "outputs": [
    {
     "data": {
      "image/png": "[encoded data removed]",
      "text/plain": [
       "<Figure size 432x288 with 1 Axes>"
      ]
     },
     "metadata": {
      "needs_background": "light",
      "tags": []
     },
     "output_type": "display_data"
    }
   ],
   "source": [
    "plt.bar(d7.index,d7,color='lightblue',label='Market wise Sales')\n",
    "plt.bar(d6.index,d6,color='green',label='Market wise Budget Sales')\n",
    "plt.legend()\n",
    "plt.show()"
   ]
  },
  {
   "cell_type": "code",
   "execution_count": null,
   "metadata": {
    "id": "MrO1hEnzvZgj"
   },
   "outputs": [],
   "source": []
  },
  {
   "cell_type": "code",
   "execution_count": null,
   "metadata": {
    "id": "jHb8oygVvZgk"
   },
   "outputs": [],
   "source": []
  },
  {
   "cell_type": "markdown",
   "metadata": {
    "id": "XDeJNV4LvZgk"
   },
   "source": [
    "###  22) Depict Market and Type wise sum of Budget Profit on a bar chart"
   ]
  },
  {
   "cell_type": "code",
   "execution_count": null,
   "metadata": {
    "id": "Pmbu0ruOvZgk",
    "outputId": "d7f2b4e8-03c7-40ce-d332-852e3c397f17"
   },
   "outputs": [
    {
     "data": {
      "text/plain": [
       "Index(['Area Code', 'Date', 'Market', 'Market Size', 'Product', 'Product Line',\n",
       "       'Product Type', 'State', 'Type', 'Budget COGS', 'Budget Margin',\n",
       "       'Budget Profit', 'Budget Sales', 'COGS', 'Inventory', 'Margin',\n",
       "       'Marketing', 'Profit', 'Sales', 'Total Expenses'],\n",
       "      dtype='object')"
      ]
     },
     "execution_count": 46,
     "metadata": {
      "tags": []
     },
     "output_type": "execute_result"
    }
   ],
   "source": [
    "df.columns"
   ]
  },
  {
   "cell_type": "code",
   "execution_count": null,
   "metadata": {
    "id": "g2l-FOGgvZgk",
    "outputId": "b317ccdc-6b2c-488f-9834-e88515f2c6e6"
   },
   "outputs": [
    {
     "data": {
      "text/plain": [
       "Market   Type   \n",
       "Central  Decaf      43880\n",
       "         Regular    48700\n",
       "East     Decaf      10800\n",
       "         Regular    45980\n",
       "South    Decaf      16320\n",
       "         Regular    18720\n",
       "West     Decaf      36240\n",
       "         Regular    38120\n",
       "Name: Budget Profit, dtype: int64"
      ]
     },
     "execution_count": 48,
     "metadata": {
      "tags": []
     },
     "output_type": "execute_result"
    }
   ],
   "source": [
    "d8 = df.groupby(['Market','Type'])['Budget Profit'].sum()\n",
    "d8"
   ]
  },
  {
   "cell_type": "code",
   "execution_count": null,
   "metadata": {
    "id": "aXN210R0vZgk",
    "outputId": "3679c208-300e-463c-b987-a4238ebc13c8"
   },
   "outputs": [
    {
     "name": "stdout",
     "output_type": "stream",
     "text": [
      "MultiIndex([('Central',   'Decaf'),\n",
      "            ('Central', 'Regular'),\n",
      "            (   'East',   'Decaf'),\n",
      "            (   'East', 'Regular'),\n",
      "            (  'South',   'Decaf'),\n",
      "            (  'South', 'Regular'),\n",
      "            (   'West',   'Decaf'),\n",
      "            (   'West', 'Regular')],\n",
      "           names=['Market', 'Type'])\n",
      "[43880 48700 10800 45980 16320 18720 36240 38120]\n"
     ]
    }
   ],
   "source": [
    "print(d8.index)\n",
    "print(d8.values)"
   ]
  },
  {
   "cell_type": "code",
   "execution_count": null,
   "metadata": {
    "id": "4NwnZPwevZgl",
    "outputId": "f37064fe-cb69-43c1-88eb-3595a442ff17"
   },
   "outputs": [
    {
     "ename": "TypeError",
     "evalue": "('Central', 'Decaf') is not a string",
     "output_type": "error",
     "traceback": [
      "\u001b[1;31m---------------------------------------------------------------------------\u001b[0m",
      "\u001b[1;31mTypeError\u001b[0m                                 Traceback (most recent call last)",
      "\u001b[1;32m<ipython-input-51-89ad8274b60b>\u001b[0m in \u001b[0;36m<module>\u001b[1;34m\u001b[0m\n\u001b[1;32m----> 1\u001b[1;33m \u001b[0mplt\u001b[0m\u001b[1;33m.\u001b[0m\u001b[0mbar\u001b[0m\u001b[1;33m(\u001b[0m\u001b[0md8\u001b[0m\u001b[1;33m.\u001b[0m\u001b[0mindex\u001b[0m\u001b[1;33m,\u001b[0m\u001b[0md8\u001b[0m\u001b[1;33m.\u001b[0m\u001b[0mvalues\u001b[0m\u001b[1;33m)\u001b[0m\u001b[1;33m\u001b[0m\u001b[1;33m\u001b[0m\u001b[0m\n\u001b[0m\u001b[0;32m      2\u001b[0m \u001b[0mplt\u001b[0m\u001b[1;33m.\u001b[0m\u001b[0mshow\u001b[0m\u001b[1;33m(\u001b[0m\u001b[1;33m)\u001b[0m\u001b[1;33m\u001b[0m\u001b[1;33m\u001b[0m\u001b[0m\n",
      "\u001b[1;32mE:\\Users\\lenovo\\Anaconda3\\lib\\site-packages\\matplotlib\\pyplot.py\u001b[0m in \u001b[0;36mbar\u001b[1;34m(x, height, width, bottom, align, data, **kwargs)\u001b[0m\n\u001b[0;32m   2455\u001b[0m     return gca().bar(\n\u001b[0;32m   2456\u001b[0m         \u001b[0mx\u001b[0m\u001b[1;33m,\u001b[0m \u001b[0mheight\u001b[0m\u001b[1;33m,\u001b[0m \u001b[0mwidth\u001b[0m\u001b[1;33m=\u001b[0m\u001b[0mwidth\u001b[0m\u001b[1;33m,\u001b[0m \u001b[0mbottom\u001b[0m\u001b[1;33m=\u001b[0m\u001b[0mbottom\u001b[0m\u001b[1;33m,\u001b[0m \u001b[0malign\u001b[0m\u001b[1;33m=\u001b[0m\u001b[0malign\u001b[0m\u001b[1;33m,\u001b[0m\u001b[1;33m\u001b[0m\u001b[1;33m\u001b[0m\u001b[0m\n\u001b[1;32m-> 2457\u001b[1;33m         **({\"data\": data} if data is not None else {}), **kwargs)\n\u001b[0m\u001b[0;32m   2458\u001b[0m \u001b[1;33m\u001b[0m\u001b[0m\n\u001b[0;32m   2459\u001b[0m \u001b[1;33m\u001b[0m\u001b[0m\n",
      "\u001b[1;32mE:\\Users\\lenovo\\Anaconda3\\lib\\site-packages\\matplotlib\\__init__.py\u001b[0m in \u001b[0;36minner\u001b[1;34m(ax, data, *args, **kwargs)\u001b[0m\n\u001b[0;32m   1808\u001b[0m                         \u001b[1;34m\"the Matplotlib list!)\"\u001b[0m \u001b[1;33m%\u001b[0m \u001b[1;33m(\u001b[0m\u001b[0mlabel_namer\u001b[0m\u001b[1;33m,\u001b[0m \u001b[0mfunc\u001b[0m\u001b[1;33m.\u001b[0m\u001b[0m__name__\u001b[0m\u001b[1;33m)\u001b[0m\u001b[1;33m,\u001b[0m\u001b[1;33m\u001b[0m\u001b[1;33m\u001b[0m\u001b[0m\n\u001b[0;32m   1809\u001b[0m                         RuntimeWarning, stacklevel=2)\n\u001b[1;32m-> 1810\u001b[1;33m             \u001b[1;32mreturn\u001b[0m \u001b[0mfunc\u001b[0m\u001b[1;33m(\u001b[0m\u001b[0max\u001b[0m\u001b[1;33m,\u001b[0m \u001b[1;33m*\u001b[0m\u001b[0margs\u001b[0m\u001b[1;33m,\u001b[0m \u001b[1;33m**\u001b[0m\u001b[0mkwargs\u001b[0m\u001b[1;33m)\u001b[0m\u001b[1;33m\u001b[0m\u001b[1;33m\u001b[0m\u001b[0m\n\u001b[0m\u001b[0;32m   1811\u001b[0m \u001b[1;33m\u001b[0m\u001b[0m\n\u001b[0;32m   1812\u001b[0m         inner.__doc__ = _add_data_doc(inner.__doc__,\n",
      "\u001b[1;32mE:\\Users\\lenovo\\Anaconda3\\lib\\site-packages\\matplotlib\\axes\\_axes.py\u001b[0m in \u001b[0;36mbar\u001b[1;34m(self, x, height, width, bottom, align, **kwargs)\u001b[0m\n\u001b[0;32m   2223\u001b[0m \u001b[1;33m\u001b[0m\u001b[0m\n\u001b[0;32m   2224\u001b[0m         \u001b[1;32mif\u001b[0m \u001b[0morientation\u001b[0m \u001b[1;33m==\u001b[0m \u001b[1;34m'vertical'\u001b[0m\u001b[1;33m:\u001b[0m\u001b[1;33m\u001b[0m\u001b[1;33m\u001b[0m\u001b[0m\n\u001b[1;32m-> 2225\u001b[1;33m             \u001b[0mself\u001b[0m\u001b[1;33m.\u001b[0m\u001b[0m_process_unit_info\u001b[0m\u001b[1;33m(\u001b[0m\u001b[0mxdata\u001b[0m\u001b[1;33m=\u001b[0m\u001b[0mx\u001b[0m\u001b[1;33m,\u001b[0m \u001b[0mydata\u001b[0m\u001b[1;33m=\u001b[0m\u001b[0mheight\u001b[0m\u001b[1;33m,\u001b[0m \u001b[0mkwargs\u001b[0m\u001b[1;33m=\u001b[0m\u001b[0mkwargs\u001b[0m\u001b[1;33m)\u001b[0m\u001b[1;33m\u001b[0m\u001b[1;33m\u001b[0m\u001b[0m\n\u001b[0m\u001b[0;32m   2226\u001b[0m             \u001b[1;32mif\u001b[0m \u001b[0mlog\u001b[0m\u001b[1;33m:\u001b[0m\u001b[1;33m\u001b[0m\u001b[1;33m\u001b[0m\u001b[0m\n\u001b[0;32m   2227\u001b[0m                 \u001b[0mself\u001b[0m\u001b[1;33m.\u001b[0m\u001b[0mset_yscale\u001b[0m\u001b[1;33m(\u001b[0m\u001b[1;34m'log'\u001b[0m\u001b[1;33m,\u001b[0m \u001b[0mnonposy\u001b[0m\u001b[1;33m=\u001b[0m\u001b[1;34m'clip'\u001b[0m\u001b[1;33m)\u001b[0m\u001b[1;33m\u001b[0m\u001b[1;33m\u001b[0m\u001b[0m\n",
      "\u001b[1;32mE:\\Users\\lenovo\\Anaconda3\\lib\\site-packages\\matplotlib\\axes\\_base.py\u001b[0m in \u001b[0;36m_process_unit_info\u001b[1;34m(self, xdata, ydata, kwargs)\u001b[0m\n\u001b[0;32m   2133\u001b[0m             \u001b[1;32mreturn\u001b[0m \u001b[0mkwargs\u001b[0m\u001b[1;33m\u001b[0m\u001b[1;33m\u001b[0m\u001b[0m\n\u001b[0;32m   2134\u001b[0m \u001b[1;33m\u001b[0m\u001b[0m\n\u001b[1;32m-> 2135\u001b[1;33m         \u001b[0mkwargs\u001b[0m \u001b[1;33m=\u001b[0m \u001b[0m_process_single_axis\u001b[0m\u001b[1;33m(\u001b[0m\u001b[0mxdata\u001b[0m\u001b[1;33m,\u001b[0m \u001b[0mself\u001b[0m\u001b[1;33m.\u001b[0m\u001b[0mxaxis\u001b[0m\u001b[1;33m,\u001b[0m \u001b[1;34m'xunits'\u001b[0m\u001b[1;33m,\u001b[0m \u001b[0mkwargs\u001b[0m\u001b[1;33m)\u001b[0m\u001b[1;33m\u001b[0m\u001b[1;33m\u001b[0m\u001b[0m\n\u001b[0m\u001b[0;32m   2136\u001b[0m         \u001b[0mkwargs\u001b[0m \u001b[1;33m=\u001b[0m \u001b[0m_process_single_axis\u001b[0m\u001b[1;33m(\u001b[0m\u001b[0mydata\u001b[0m\u001b[1;33m,\u001b[0m \u001b[0mself\u001b[0m\u001b[1;33m.\u001b[0m\u001b[0myaxis\u001b[0m\u001b[1;33m,\u001b[0m \u001b[1;34m'yunits'\u001b[0m\u001b[1;33m,\u001b[0m \u001b[0mkwargs\u001b[0m\u001b[1;33m)\u001b[0m\u001b[1;33m\u001b[0m\u001b[1;33m\u001b[0m\u001b[0m\n\u001b[0;32m   2137\u001b[0m         \u001b[1;32mreturn\u001b[0m \u001b[0mkwargs\u001b[0m\u001b[1;33m\u001b[0m\u001b[1;33m\u001b[0m\u001b[0m\n",
      "\u001b[1;32mE:\\Users\\lenovo\\Anaconda3\\lib\\site-packages\\matplotlib\\axes\\_base.py\u001b[0m in \u001b[0;36m_process_single_axis\u001b[1;34m(data, axis, unit_name, kwargs)\u001b[0m\n\u001b[0;32m   2116\u001b[0m                 \u001b[1;31m# We only need to update if there is nothing set yet.\u001b[0m\u001b[1;33m\u001b[0m\u001b[1;33m\u001b[0m\u001b[1;33m\u001b[0m\u001b[0m\n\u001b[0;32m   2117\u001b[0m                 \u001b[1;32mif\u001b[0m \u001b[1;32mnot\u001b[0m \u001b[0maxis\u001b[0m\u001b[1;33m.\u001b[0m\u001b[0mhave_units\u001b[0m\u001b[1;33m(\u001b[0m\u001b[1;33m)\u001b[0m\u001b[1;33m:\u001b[0m\u001b[1;33m\u001b[0m\u001b[1;33m\u001b[0m\u001b[0m\n\u001b[1;32m-> 2118\u001b[1;33m                     \u001b[0maxis\u001b[0m\u001b[1;33m.\u001b[0m\u001b[0mupdate_units\u001b[0m\u001b[1;33m(\u001b[0m\u001b[0mdata\u001b[0m\u001b[1;33m)\u001b[0m\u001b[1;33m\u001b[0m\u001b[1;33m\u001b[0m\u001b[0m\n\u001b[0m\u001b[0;32m   2119\u001b[0m \u001b[1;33m\u001b[0m\u001b[0m\n\u001b[0;32m   2120\u001b[0m             \u001b[1;31m# Check for units in the kwargs, and if present update axis\u001b[0m\u001b[1;33m\u001b[0m\u001b[1;33m\u001b[0m\u001b[1;33m\u001b[0m\u001b[0m\n",
      "\u001b[1;32mE:\\Users\\lenovo\\Anaconda3\\lib\\site-packages\\matplotlib\\axis.py\u001b[0m in \u001b[0;36mupdate_units\u001b[1;34m(self, data)\u001b[0m\n\u001b[0;32m   1471\u001b[0m         \u001b[0mneednew\u001b[0m \u001b[1;33m=\u001b[0m \u001b[0mself\u001b[0m\u001b[1;33m.\u001b[0m\u001b[0mconverter\u001b[0m \u001b[1;33m!=\u001b[0m \u001b[0mconverter\u001b[0m\u001b[1;33m\u001b[0m\u001b[1;33m\u001b[0m\u001b[0m\n\u001b[0;32m   1472\u001b[0m         \u001b[0mself\u001b[0m\u001b[1;33m.\u001b[0m\u001b[0mconverter\u001b[0m \u001b[1;33m=\u001b[0m \u001b[0mconverter\u001b[0m\u001b[1;33m\u001b[0m\u001b[1;33m\u001b[0m\u001b[0m\n\u001b[1;32m-> 1473\u001b[1;33m         \u001b[0mdefault\u001b[0m \u001b[1;33m=\u001b[0m \u001b[0mself\u001b[0m\u001b[1;33m.\u001b[0m\u001b[0mconverter\u001b[0m\u001b[1;33m.\u001b[0m\u001b[0mdefault_units\u001b[0m\u001b[1;33m(\u001b[0m\u001b[0mdata\u001b[0m\u001b[1;33m,\u001b[0m \u001b[0mself\u001b[0m\u001b[1;33m)\u001b[0m\u001b[1;33m\u001b[0m\u001b[1;33m\u001b[0m\u001b[0m\n\u001b[0m\u001b[0;32m   1474\u001b[0m         \u001b[1;32mif\u001b[0m \u001b[0mdefault\u001b[0m \u001b[1;32mis\u001b[0m \u001b[1;32mnot\u001b[0m \u001b[1;32mNone\u001b[0m \u001b[1;32mand\u001b[0m \u001b[0mself\u001b[0m\u001b[1;33m.\u001b[0m\u001b[0munits\u001b[0m \u001b[1;32mis\u001b[0m \u001b[1;32mNone\u001b[0m\u001b[1;33m:\u001b[0m\u001b[1;33m\u001b[0m\u001b[1;33m\u001b[0m\u001b[0m\n\u001b[0;32m   1475\u001b[0m             \u001b[0mself\u001b[0m\u001b[1;33m.\u001b[0m\u001b[0mset_units\u001b[0m\u001b[1;33m(\u001b[0m\u001b[0mdefault\u001b[0m\u001b[1;33m)\u001b[0m\u001b[1;33m\u001b[0m\u001b[1;33m\u001b[0m\u001b[0m\n",
      "\u001b[1;32mE:\\Users\\lenovo\\Anaconda3\\lib\\site-packages\\matplotlib\\category.py\u001b[0m in \u001b[0;36mdefault_units\u001b[1;34m(data, axis)\u001b[0m\n\u001b[0;32m    101\u001b[0m         \u001b[1;31m# default_units->axis_info->convert\u001b[0m\u001b[1;33m\u001b[0m\u001b[1;33m\u001b[0m\u001b[1;33m\u001b[0m\u001b[0m\n\u001b[0;32m    102\u001b[0m         \u001b[1;32mif\u001b[0m \u001b[0maxis\u001b[0m\u001b[1;33m.\u001b[0m\u001b[0munits\u001b[0m \u001b[1;32mis\u001b[0m \u001b[1;32mNone\u001b[0m\u001b[1;33m:\u001b[0m\u001b[1;33m\u001b[0m\u001b[1;33m\u001b[0m\u001b[0m\n\u001b[1;32m--> 103\u001b[1;33m             \u001b[0maxis\u001b[0m\u001b[1;33m.\u001b[0m\u001b[0mset_units\u001b[0m\u001b[1;33m(\u001b[0m\u001b[0mUnitData\u001b[0m\u001b[1;33m(\u001b[0m\u001b[0mdata\u001b[0m\u001b[1;33m)\u001b[0m\u001b[1;33m)\u001b[0m\u001b[1;33m\u001b[0m\u001b[1;33m\u001b[0m\u001b[0m\n\u001b[0m\u001b[0;32m    104\u001b[0m         \u001b[1;32melse\u001b[0m\u001b[1;33m:\u001b[0m\u001b[1;33m\u001b[0m\u001b[1;33m\u001b[0m\u001b[0m\n\u001b[0;32m    105\u001b[0m             \u001b[0maxis\u001b[0m\u001b[1;33m.\u001b[0m\u001b[0munits\u001b[0m\u001b[1;33m.\u001b[0m\u001b[0mupdate\u001b[0m\u001b[1;33m(\u001b[0m\u001b[0mdata\u001b[0m\u001b[1;33m)\u001b[0m\u001b[1;33m\u001b[0m\u001b[1;33m\u001b[0m\u001b[0m\n",
      "\u001b[1;32mE:\\Users\\lenovo\\Anaconda3\\lib\\site-packages\\matplotlib\\category.py\u001b[0m in \u001b[0;36m__init__\u001b[1;34m(self, data)\u001b[0m\n\u001b[0;32m    167\u001b[0m         \u001b[0mself\u001b[0m\u001b[1;33m.\u001b[0m\u001b[0m_counter\u001b[0m \u001b[1;33m=\u001b[0m \u001b[0mitertools\u001b[0m\u001b[1;33m.\u001b[0m\u001b[0mcount\u001b[0m\u001b[1;33m(\u001b[0m\u001b[1;33m)\u001b[0m\u001b[1;33m\u001b[0m\u001b[1;33m\u001b[0m\u001b[0m\n\u001b[0;32m    168\u001b[0m         \u001b[1;32mif\u001b[0m \u001b[0mdata\u001b[0m \u001b[1;32mis\u001b[0m \u001b[1;32mnot\u001b[0m \u001b[1;32mNone\u001b[0m\u001b[1;33m:\u001b[0m\u001b[1;33m\u001b[0m\u001b[1;33m\u001b[0m\u001b[0m\n\u001b[1;32m--> 169\u001b[1;33m             \u001b[0mself\u001b[0m\u001b[1;33m.\u001b[0m\u001b[0mupdate\u001b[0m\u001b[1;33m(\u001b[0m\u001b[0mdata\u001b[0m\u001b[1;33m)\u001b[0m\u001b[1;33m\u001b[0m\u001b[1;33m\u001b[0m\u001b[0m\n\u001b[0m\u001b[0;32m    170\u001b[0m \u001b[1;33m\u001b[0m\u001b[0m\n\u001b[0;32m    171\u001b[0m     \u001b[1;32mdef\u001b[0m \u001b[0mupdate\u001b[0m\u001b[1;33m(\u001b[0m\u001b[0mself\u001b[0m\u001b[1;33m,\u001b[0m \u001b[0mdata\u001b[0m\u001b[1;33m)\u001b[0m\u001b[1;33m:\u001b[0m\u001b[1;33m\u001b[0m\u001b[1;33m\u001b[0m\u001b[0m\n",
      "\u001b[1;32mE:\\Users\\lenovo\\Anaconda3\\lib\\site-packages\\matplotlib\\category.py\u001b[0m in \u001b[0;36mupdate\u001b[1;34m(self, data)\u001b[0m\n\u001b[0;32m    186\u001b[0m         \u001b[1;32mfor\u001b[0m \u001b[0mval\u001b[0m \u001b[1;32min\u001b[0m \u001b[0mOrderedDict\u001b[0m\u001b[1;33m.\u001b[0m\u001b[0mfromkeys\u001b[0m\u001b[1;33m(\u001b[0m\u001b[0mdata\u001b[0m\u001b[1;33m)\u001b[0m\u001b[1;33m:\u001b[0m\u001b[1;33m\u001b[0m\u001b[1;33m\u001b[0m\u001b[0m\n\u001b[0;32m    187\u001b[0m             \u001b[1;32mif\u001b[0m \u001b[1;32mnot\u001b[0m \u001b[0misinstance\u001b[0m\u001b[1;33m(\u001b[0m\u001b[0mval\u001b[0m\u001b[1;33m,\u001b[0m \u001b[1;33m(\u001b[0m\u001b[0mstr\u001b[0m\u001b[1;33m,\u001b[0m \u001b[0mbytes\u001b[0m\u001b[1;33m)\u001b[0m\u001b[1;33m)\u001b[0m\u001b[1;33m:\u001b[0m\u001b[1;33m\u001b[0m\u001b[1;33m\u001b[0m\u001b[0m\n\u001b[1;32m--> 188\u001b[1;33m                 \u001b[1;32mraise\u001b[0m \u001b[0mTypeError\u001b[0m\u001b[1;33m(\u001b[0m\u001b[1;34m\"{val!r} is not a string\"\u001b[0m\u001b[1;33m.\u001b[0m\u001b[0mformat\u001b[0m\u001b[1;33m(\u001b[0m\u001b[0mval\u001b[0m\u001b[1;33m=\u001b[0m\u001b[0mval\u001b[0m\u001b[1;33m)\u001b[0m\u001b[1;33m)\u001b[0m\u001b[1;33m\u001b[0m\u001b[1;33m\u001b[0m\u001b[0m\n\u001b[0m\u001b[0;32m    189\u001b[0m             \u001b[1;32mif\u001b[0m \u001b[0mval\u001b[0m \u001b[1;32mnot\u001b[0m \u001b[1;32min\u001b[0m \u001b[0mself\u001b[0m\u001b[1;33m.\u001b[0m\u001b[0m_mapping\u001b[0m\u001b[1;33m:\u001b[0m\u001b[1;33m\u001b[0m\u001b[1;33m\u001b[0m\u001b[0m\n\u001b[0;32m    190\u001b[0m                 \u001b[0mself\u001b[0m\u001b[1;33m.\u001b[0m\u001b[0m_mapping\u001b[0m\u001b[1;33m[\u001b[0m\u001b[0mval\u001b[0m\u001b[1;33m]\u001b[0m \u001b[1;33m=\u001b[0m \u001b[0mnext\u001b[0m\u001b[1;33m(\u001b[0m\u001b[0mself\u001b[0m\u001b[1;33m.\u001b[0m\u001b[0m_counter\u001b[0m\u001b[1;33m)\u001b[0m\u001b[1;33m\u001b[0m\u001b[1;33m\u001b[0m\u001b[0m\n",
      "\u001b[1;31mTypeError\u001b[0m: ('Central', 'Decaf') is not a string"
     ]
    },
    {
     "data": {
      "image/png": "[encoded data removed]",
      "text/plain": [
       "<Figure size 432x288 with 1 Axes>"
      ]
     },
     "metadata": {
      "needs_background": "light",
      "tags": []
     },
     "output_type": "display_data"
    }
   ],
   "source": [
    "plt.bar(d8.index,d8.values)\n",
    "plt.show()"
   ]
  },
  {
   "cell_type": "code",
   "execution_count": null,
   "metadata": {
    "id": "cuzwmSWsvZgl",
    "outputId": "70b20b79-798a-4858-e473-1baa973835bf"
   },
   "outputs": [
    {
     "data": {
      "image/png": "[encoded data removed]",
      "text/plain": [
       "<Figure size 432x288 with 1 Axes>"
      ]
     },
     "metadata": {
      "needs_background": "light",
      "tags": []
     },
     "output_type": "display_data"
    }
   ],
   "source": [
    "d8.plot(kind='bar',color='maroon')\n",
    "plt.show()"
   ]
  },
  {
   "cell_type": "code",
   "execution_count": null,
   "metadata": {
    "id": "ynfFjJyyvZgm",
    "outputId": "6da50f3e-d1d9-4308-9b1e-72ba4dfdf17f"
   },
   "outputs": [
    {
     "data": {
      "text/plain": [
       "Market\n",
       "Central    186.279762\n",
       "East       177.815315\n",
       "South      146.130952\n",
       "West       178.348214\n",
       "Name: Budget Sales, dtype: float64"
      ]
     },
     "execution_count": 55,
     "metadata": {
      "tags": []
     },
     "output_type": "execute_result"
    }
   ],
   "source": [
    "d6"
   ]
  },
  {
   "cell_type": "code",
   "execution_count": null,
   "metadata": {
    "id": "FHnkDpcYvZgm",
    "outputId": "661608e6-20cb-4c66-fc30-b8cc643abddf"
   },
   "outputs": [
    {
     "data": {
      "text/plain": [
       "{'Central': 186.2797619047619,\n",
       " 'East': 177.8153153153153,\n",
       " 'South': 146.13095238095238,\n",
       " 'West': 178.34821428571428}"
      ]
     },
     "execution_count": 56,
     "metadata": {
      "tags": []
     },
     "output_type": "execute_result"
    }
   ],
   "source": [
    "w = dict(d6)\n",
    "w"
   ]
  },
  {
   "cell_type": "code",
   "execution_count": null,
   "metadata": {
    "id": "Hv9kjCWBvZgm",
    "outputId": "1814d2b8-b412-4450-a3fb-8ff12d474bab"
   },
   "outputs": [
    {
     "data": {
      "text/plain": [
       "<BarContainer object of 4 artists>"
      ]
     },
     "execution_count": 57,
     "metadata": {
      "tags": []
     },
     "output_type": "execute_result"
    },
    {
     "data": {
      "image/png": "[encoded data removed]",
      "text/plain": [
       "<Figure size 432x288 with 1 Axes>"
      ]
     },
     "metadata": {
      "needs_background": "light",
      "tags": []
     },
     "output_type": "display_data"
    }
   ],
   "source": [
    "plt.bar(w.keys(),w.values())"
   ]
  },
  {
   "cell_type": "markdown",
   "metadata": {
    "id": "wUHQlC00vZgn"
   },
   "source": [
    "### 24) Depict Product and Type wise sum of Budget COGS on a line Chart"
   ]
  },
  {
   "cell_type": "code",
   "execution_count": null,
   "metadata": {
    "id": "iJU2hYVGvZgn",
    "outputId": "56fad05e-0167-4f4d-adb2-4cebea1f13aa"
   },
   "outputs": [
    {
     "data": {
      "text/plain": [
       "Index(['Area Code', 'Date', 'Market', 'Market Size', 'Product', 'Product Line',\n",
       "       'Product Type', 'State', 'Type', 'Budget COGS', 'Budget Margin',\n",
       "       'Budget Profit', 'Budget Sales', 'COGS', 'Inventory', 'Margin',\n",
       "       'Marketing', 'Profit', 'Sales', 'Total Expenses'],\n",
       "      dtype='object')"
      ]
     },
     "execution_count": 58,
     "metadata": {
      "tags": []
     },
     "output_type": "execute_result"
    }
   ],
   "source": [
    "df.columns"
   ]
  },
  {
   "cell_type": "code",
   "execution_count": null,
   "metadata": {
    "id": "SFmzFvy1vZgn",
    "outputId": "7b6a299d-07f8-4939-fe38-038060f7246f"
   },
   "outputs": [
    {
     "data": {
      "text/plain": [
       "Product            Type   \n",
       "Amaretto           Regular    13420\n",
       "Caffe Latte        Regular    12820\n",
       "Caffe Mocha        Regular    36820\n",
       "Chamomile          Decaf      25360\n",
       "Colombian          Regular    51240\n",
       "Darjeeling         Regular    22880\n",
       "Decaf Espresso     Decaf      31660\n",
       "Decaf Irish Cream  Decaf      32220\n",
       "Earl Grey          Regular    21040\n",
       "Green Tea          Regular    13220\n",
       "Lemon              Decaf      32560\n",
       "Mint               Decaf      15140\n",
       "Regular Espresso   Regular     9500\n",
       "Name: Budget COGS, dtype: int64"
      ]
     },
     "execution_count": 60,
     "metadata": {
      "tags": []
     },
     "output_type": "execute_result"
    }
   ],
   "source": [
    "d9 = df.groupby(['Product','Type'])['Budget COGS'].sum()\n",
    "d9"
   ]
  },
  {
   "cell_type": "code",
   "execution_count": null,
   "metadata": {
    "id": "ivxNsrLHvZgn",
    "outputId": "41706ea2-54f4-4464-bd54-0e35140e3d35"
   },
   "outputs": [
    {
     "data": {
      "image/png": "[encoded data removed]",
      "text/plain": [
       "<Figure size 432x288 with 1 Axes>"
      ]
     },
     "metadata": {
      "needs_background": "light",
      "tags": []
     },
     "output_type": "display_data"
    }
   ],
   "source": [
    "d9.plot(kind='line',marker='*',color='maroon')\n",
    "plt.xticks(rotation=90)\n",
    "plt.show()"
   ]
  },
  {
   "cell_type": "markdown",
   "metadata": {
    "id": "83Yli3hqvZgo"
   },
   "source": [
    "### 25) Depict Product and Type wise sum of Budget Profit and Budget Sales on a line Chart"
   ]
  },
  {
   "cell_type": "code",
   "execution_count": null,
   "metadata": {
    "id": "eEWAmfo6vZgo",
    "outputId": "6aacf923-e624-4dbe-8316-5cf00e0e60b9"
   },
   "outputs": [
    {
     "name": "stderr",
     "output_type": "stream",
     "text": [
      "E:\\Users\\lenovo\\Anaconda3\\lib\\site-packages\\ipykernel_launcher.py:1: FutureWarning: Indexing with multiple keys (implicitly converted to a tuple of keys) will be deprecated, use a list instead.\n",
      "  \"\"\"Entry point for launching an IPython kernel.\n"
     ]
    },
    {
     "data": {
      "text/html": [
       "<div>\n",
       "<style scoped>\n",
       "    .dataframe tbody tr th:only-of-type {\n",
       "        vertical-align: middle;\n",
       "    }\n",
       "\n",
       "    .dataframe tbody tr th {\n",
       "        vertical-align: top;\n",
       "    }\n",
       "\n",
       "    .dataframe thead th {\n",
       "        text-align: right;\n",
       "    }\n",
       "</style>\n",
       "<table border=\"1\" class=\"dataframe\">\n",
       "  <thead>\n",
       "    <tr style=\"text-align: right;\">\n",
       "      <th></th>\n",
       "      <th></th>\n",
       "      <th>Budget Profit</th>\n",
       "      <th>Budget Sales</th>\n",
       "    </tr>\n",
       "    <tr>\n",
       "      <th>Product</th>\n",
       "      <th>Type</th>\n",
       "      <th></th>\n",
       "      <th></th>\n",
       "    </tr>\n",
       "  </thead>\n",
       "  <tbody>\n",
       "    <tr>\n",
       "      <th>Amaretto</th>\n",
       "      <th>Regular</th>\n",
       "      <td>7020</td>\n",
       "      <td>27200</td>\n",
       "    </tr>\n",
       "    <tr>\n",
       "      <th>Caffe Latte</th>\n",
       "      <th>Regular</th>\n",
       "      <td>10100</td>\n",
       "      <td>30540</td>\n",
       "    </tr>\n",
       "    <tr>\n",
       "      <th>Caffe Mocha</th>\n",
       "      <th>Regular</th>\n",
       "      <td>23280</td>\n",
       "      <td>84600</td>\n",
       "    </tr>\n",
       "    <tr>\n",
       "      <th>Chamomile</th>\n",
       "      <th>Decaf</th>\n",
       "      <td>24920</td>\n",
       "      <td>63840</td>\n",
       "    </tr>\n",
       "    <tr>\n",
       "      <th>Colombian</th>\n",
       "      <th>Regular</th>\n",
       "      <td>57800</td>\n",
       "      <td>134380</td>\n",
       "    </tr>\n",
       "    <tr>\n",
       "      <th>Darjeeling</th>\n",
       "      <th>Regular</th>\n",
       "      <td>22860</td>\n",
       "      <td>57360</td>\n",
       "    </tr>\n",
       "    <tr>\n",
       "      <th>Decaf Espresso</th>\n",
       "      <th>Decaf</th>\n",
       "      <td>29460</td>\n",
       "      <td>75720</td>\n",
       "    </tr>\n",
       "    <tr>\n",
       "      <th>Decaf Irish Cream</th>\n",
       "      <th>Decaf</th>\n",
       "      <td>19060</td>\n",
       "      <td>67040</td>\n",
       "    </tr>\n",
       "    <tr>\n",
       "      <th>Earl Grey</th>\n",
       "      <th>Regular</th>\n",
       "      <td>17600</td>\n",
       "      <td>50900</td>\n",
       "    </tr>\n",
       "    <tr>\n",
       "      <th>Green Tea</th>\n",
       "      <th>Regular</th>\n",
       "      <td>3800</td>\n",
       "      <td>25340</td>\n",
       "    </tr>\n",
       "    <tr>\n",
       "      <th>Lemon</th>\n",
       "      <th>Decaf</th>\n",
       "      <td>27020</td>\n",
       "      <td>78300</td>\n",
       "    </tr>\n",
       "    <tr>\n",
       "      <th>Mint</th>\n",
       "      <th>Decaf</th>\n",
       "      <td>6780</td>\n",
       "      <td>28320</td>\n",
       "    </tr>\n",
       "    <tr>\n",
       "      <th>Regular Espresso</th>\n",
       "      <th>Regular</th>\n",
       "      <td>9060</td>\n",
       "      <td>22620</td>\n",
       "    </tr>\n",
       "  </tbody>\n",
       "</table>\n",
       "</div>"
      ],
      "text/plain": [
       "                           Budget Profit  Budget Sales\n",
       "Product           Type                                \n",
       "Amaretto          Regular           7020         27200\n",
       "Caffe Latte       Regular          10100         30540\n",
       "Caffe Mocha       Regular          23280         84600\n",
       "Chamomile         Decaf            24920         63840\n",
       "Colombian         Regular          57800        134380\n",
       "Darjeeling        Regular          22860         57360\n",
       "Decaf Espresso    Decaf            29460         75720\n",
       "Decaf Irish Cream Decaf            19060         67040\n",
       "Earl Grey         Regular          17600         50900\n",
       "Green Tea         Regular           3800         25340\n",
       "Lemon             Decaf            27020         78300\n",
       "Mint              Decaf             6780         28320\n",
       "Regular Espresso  Regular           9060         22620"
      ]
     },
     "execution_count": 66,
     "metadata": {
      "tags": []
     },
     "output_type": "execute_result"
    }
   ],
   "source": [
    "d10 = df.groupby([\"Product\",'Type'])['Budget Profit','Budget Sales'].sum()\n",
    "d10"
   ]
  },
  {
   "cell_type": "code",
   "execution_count": null,
   "metadata": {
    "id": "B0Li57ctvZgo",
    "outputId": "2a7abb6a-1dc5-4cfa-a6b1-e74e9b19c2d2"
   },
   "outputs": [
    {
     "data": {
      "image/png": "[encoded data removed]",
      "text/plain": [
       "<Figure size 648x576 with 1 Axes>"
      ]
     },
     "metadata": {
      "needs_background": "light",
      "tags": []
     },
     "output_type": "display_data"
    }
   ],
   "source": [
    "# plt.figure(figsize=(9,8))\n",
    "d10.plot(kind='line',color=['maroon','black'], figsize=(9,8))\n",
    "plt.xticks(rotation=90)\n",
    "plt.show()"
   ]
  },
  {
   "cell_type": "markdown",
   "metadata": {
    "id": "XdMyM_DWvZgo"
   },
   "source": [
    "### 26)  Depict Market and Product Type based mean of Sales on a bar chart and on a stacked bar chart separately"
   ]
  },
  {
   "cell_type": "code",
   "execution_count": null,
   "metadata": {
    "id": "WDDwBjbcvZgo",
    "outputId": "94edcae0-6da4-4bb3-a197-d874ca6713b6"
   },
   "outputs": [
    {
     "data": {
      "text/plain": [
       "Index(['Area Code', 'Date', 'Market', 'Market Size', 'Product', 'Product Line',\n",
       "       'Product Type', 'State', 'Type', 'Budget COGS', 'Budget Margin',\n",
       "       'Budget Profit', 'Budget Sales', 'COGS', 'Inventory', 'Margin',\n",
       "       'Marketing', 'Profit', 'Sales', 'Total Expenses'],\n",
       "      dtype='object')"
      ]
     },
     "execution_count": 75,
     "metadata": {
      "tags": []
     },
     "output_type": "execute_result"
    }
   ],
   "source": [
    "df.columns"
   ]
  },
  {
   "cell_type": "code",
   "execution_count": 6,
   "metadata": {
    "id": "mrGXR1lZvZgp",
    "outputId": "4fd87668-d3d1-451e-af08-a514ffbd32fe"
   },
   "outputs": [
    {
     "data": {
      "text/plain": [
       "Market   Product Type\n",
       "Central  Coffee          179.895833\n",
       "         Espresso        207.295139\n",
       "         Herbal Tea      202.047619\n",
       "         Tea             203.500000\n",
       "East     Coffee          337.148810\n",
       "         Espresso        201.654167\n",
       "         Herbal Tea      191.486111\n",
       "         Tea             121.882576\n",
       "South    Coffee          173.223958\n",
       "         Espresso        156.215278\n",
       "         Herbal Tea      133.734375\n",
       "West     Coffee          185.410256\n",
       "         Espresso        194.188889\n",
       "         Herbal Tea      231.692308\n",
       "         Tea             200.611111\n",
       "Name: Sales, dtype: float64"
      ]
     },
     "execution_count": 6,
     "metadata": {},
     "output_type": "execute_result"
    }
   ],
   "source": [
    "d11 = df.groupby(['Market','Product Type'])['Sales'].mean()\n",
    "d11"
   ]
  },
  {
   "cell_type": "code",
   "execution_count": 7,
   "metadata": {
    "id": "OPt6Zb4cvZgp",
    "outputId": "4a10ba14-2c1c-45ae-ece4-e40f3df04b66"
   },
   "outputs": [
    {
     "data": {
      "image/png": "[encoded data removed]",
      "text/plain": [
       "<Figure size 648x576 with 1 Axes>"
      ]
     },
     "metadata": {
      "needs_background": "light"
     },
     "output_type": "display_data"
    }
   ],
   "source": [
    "d11.plot(kind='bar',figsize=(9,8))\n",
    "plt.show()"
   ]
  },
  {
   "cell_type": "code",
   "execution_count": null,
   "metadata": {
    "id": "jU_naJOBvZgp",
    "outputId": "e1233a26-a434-432f-cdf1-0c596de641e3"
   },
   "outputs": [
    {
     "data": {
      "text/plain": [
       "Market   Product Type\n",
       "Central  Coffee          179.895833\n",
       "         Espresso        207.295139\n",
       "         Herbal Tea      202.047619\n",
       "         Tea             203.500000\n",
       "East     Coffee          337.148810\n",
       "         Espresso        201.654167\n",
       "         Herbal Tea      191.486111\n",
       "         Tea             121.882576\n",
       "South    Coffee          173.223958\n",
       "         Espresso        156.215278\n",
       "         Herbal Tea      133.734375\n",
       "West     Coffee          185.410256\n",
       "         Espresso        194.188889\n",
       "         Herbal Tea      231.692308\n",
       "         Tea             200.611111\n",
       "Name: Sales, dtype: float64"
      ]
     },
     "execution_count": 79,
     "metadata": {
      "tags": []
     },
     "output_type": "execute_result"
    }
   ],
   "source": [
    "d11"
   ]
  },
  {
   "cell_type": "code",
   "execution_count": 8,
   "metadata": {
    "id": "6ARXBB1tvZgq",
    "outputId": "cb30d82b-30b1-4f60-d1a9-957a4582bf57"
   },
   "outputs": [
    {
     "data": {
      "text/html": [
       "<div>\n",
       "<style scoped>\n",
       "    .dataframe tbody tr th:only-of-type {\n",
       "        vertical-align: middle;\n",
       "    }\n",
       "\n",
       "    .dataframe tbody tr th {\n",
       "        vertical-align: top;\n",
       "    }\n",
       "\n",
       "    .dataframe thead th {\n",
       "        text-align: right;\n",
       "    }\n",
       "</style>\n",
       "<table border=\"1\" class=\"dataframe\">\n",
       "  <thead>\n",
       "    <tr style=\"text-align: right;\">\n",
       "      <th>Product Type</th>\n",
       "      <th>Coffee</th>\n",
       "      <th>Espresso</th>\n",
       "      <th>Herbal Tea</th>\n",
       "      <th>Tea</th>\n",
       "    </tr>\n",
       "    <tr>\n",
       "      <th>Market</th>\n",
       "      <th></th>\n",
       "      <th></th>\n",
       "      <th></th>\n",
       "      <th></th>\n",
       "    </tr>\n",
       "  </thead>\n",
       "  <tbody>\n",
       "    <tr>\n",
       "      <th>Central</th>\n",
       "      <td>179.895833</td>\n",
       "      <td>207.295139</td>\n",
       "      <td>202.047619</td>\n",
       "      <td>203.500000</td>\n",
       "    </tr>\n",
       "    <tr>\n",
       "      <th>East</th>\n",
       "      <td>337.148810</td>\n",
       "      <td>201.654167</td>\n",
       "      <td>191.486111</td>\n",
       "      <td>121.882576</td>\n",
       "    </tr>\n",
       "    <tr>\n",
       "      <th>South</th>\n",
       "      <td>173.223958</td>\n",
       "      <td>156.215278</td>\n",
       "      <td>133.734375</td>\n",
       "      <td>NaN</td>\n",
       "    </tr>\n",
       "    <tr>\n",
       "      <th>West</th>\n",
       "      <td>185.410256</td>\n",
       "      <td>194.188889</td>\n",
       "      <td>231.692308</td>\n",
       "      <td>200.611111</td>\n",
       "    </tr>\n",
       "  </tbody>\n",
       "</table>\n",
       "</div>"
      ],
      "text/plain": [
       "Product Type      Coffee    Espresso  Herbal Tea         Tea\n",
       "Market                                                      \n",
       "Central       179.895833  207.295139  202.047619  203.500000\n",
       "East          337.148810  201.654167  191.486111  121.882576\n",
       "South         173.223958  156.215278  133.734375         NaN\n",
       "West          185.410256  194.188889  231.692308  200.611111"
      ]
     },
     "execution_count": 8,
     "metadata": {},
     "output_type": "execute_result"
    }
   ],
   "source": [
    "d12 = d11.unstack()\n",
    "d12"
   ]
  },
  {
   "cell_type": "code",
   "execution_count": 9,
   "metadata": {
    "id": "Aqw_DX9FvZgq",
    "outputId": "66e07658-5978-4135-b93e-2ff1890657ac"
   },
   "outputs": [
    {
     "data": {
      "image/png": "[encoded data removed]",
      "text/plain": [
       "<Figure size 648x576 with 1 Axes>"
      ]
     },
     "metadata": {
      "needs_background": "light"
     },
     "output_type": "display_data"
    }
   ],
   "source": [
    "d12.plot(kind='bar',stacked=True,figsize=(9,8))\n",
    "plt.grid()\n",
    "plt.show()"
   ]
  },
  {
   "cell_type": "markdown",
   "metadata": {
    "id": "WJssfj77vZgq"
   },
   "source": [
    "### 27) Find State and Market Size based mean of Sales and COGS where Market is not Central and Profit is over 350. Depict the result on a line chart and stacked bar separately"
   ]
  },
  {
   "cell_type": "code",
   "execution_count": null,
   "metadata": {
    "id": "wR25D4aGvZgq",
    "outputId": "521fff11-4778-44ee-d81c-f50ecde92528"
   },
   "outputs": [
    {
     "data": {
      "text/plain": [
       "Central    1344\n",
       "West       1344\n",
       "East        888\n",
       "South       672\n",
       "Name: Market, dtype: int64"
      ]
     },
     "execution_count": 89,
     "metadata": {
      "tags": []
     },
     "output_type": "execute_result"
    }
   ],
   "source": [
    "df['Market'].value_counts()"
   ]
  },
  {
   "cell_type": "code",
   "execution_count": null,
   "metadata": {
    "id": "QMVXSrPyvZgr",
    "outputId": "9d56a729-b116-4bc2-907e-844322057c6b"
   },
   "outputs": [
    {
     "data": {
      "text/plain": [
       "(65, 20)"
      ]
     },
     "execution_count": 95,
     "metadata": {
      "tags": []
     },
     "output_type": "execute_result"
    }
   ],
   "source": [
    "d13 = df[(df['Market']!='Central') & (df['Profit']>350)]\n",
    "d13.shape"
   ]
  },
  {
   "cell_type": "code",
   "execution_count": null,
   "metadata": {
    "id": "MowqE1l9vZgr",
    "outputId": "830242ff-a50d-4f82-b6c8-40b0ba254a2f"
   },
   "outputs": [
    {
     "name": "stderr",
     "output_type": "stream",
     "text": [
      "E:\\Users\\lenovo\\Anaconda3\\lib\\site-packages\\ipykernel_launcher.py:1: FutureWarning: Indexing with multiple keys (implicitly converted to a tuple of keys) will be deprecated, use a list instead.\n",
      "  \"\"\"Entry point for launching an IPython kernel.\n"
     ]
    },
    {
     "data": {
      "text/plain": [
       "(4, 2)"
      ]
     },
     "execution_count": 97,
     "metadata": {
      "tags": []
     },
     "output_type": "execute_result"
    }
   ],
   "source": [
    "d14 = d13.groupby(['State','Market Size'])['Sales','COGS'].mean()\n",
    "d14.shape"
   ]
  },
  {
   "cell_type": "code",
   "execution_count": null,
   "metadata": {
    "id": "9EU-Ms8UvZgt",
    "outputId": "900dab6b-9675-4574-f38e-778b21d4ec5b"
   },
   "outputs": [
    {
     "data": {
      "text/html": [
       "<div>\n",
       "<style scoped>\n",
       "    .dataframe tbody tr th:only-of-type {\n",
       "        vertical-align: middle;\n",
       "    }\n",
       "\n",
       "    .dataframe tbody tr th {\n",
       "        vertical-align: top;\n",
       "    }\n",
       "\n",
       "    .dataframe thead th {\n",
       "        text-align: right;\n",
       "    }\n",
       "</style>\n",
       "<table border=\"1\" class=\"dataframe\">\n",
       "  <thead>\n",
       "    <tr style=\"text-align: right;\">\n",
       "      <th></th>\n",
       "      <th></th>\n",
       "      <th>Sales</th>\n",
       "      <th>COGS</th>\n",
       "    </tr>\n",
       "    <tr>\n",
       "      <th>State</th>\n",
       "      <th>Market Size</th>\n",
       "      <th></th>\n",
       "      <th></th>\n",
       "    </tr>\n",
       "  </thead>\n",
       "  <tbody>\n",
       "    <tr>\n",
       "      <th>California</th>\n",
       "      <th>Major Market</th>\n",
       "      <td>794.125000</td>\n",
       "      <td>312.125000</td>\n",
       "    </tr>\n",
       "    <tr>\n",
       "      <th>Massachusetts</th>\n",
       "      <th>Major Market</th>\n",
       "      <td>566.809524</td>\n",
       "      <td>64.000000</td>\n",
       "    </tr>\n",
       "    <tr>\n",
       "      <th>Nevada</th>\n",
       "      <th>Small Market</th>\n",
       "      <td>676.500000</td>\n",
       "      <td>293.000000</td>\n",
       "    </tr>\n",
       "    <tr>\n",
       "      <th>New York</th>\n",
       "      <th>Major Market</th>\n",
       "      <td>770.461538</td>\n",
       "      <td>285.038462</td>\n",
       "    </tr>\n",
       "  </tbody>\n",
       "</table>\n",
       "</div>"
      ],
      "text/plain": [
       "                                 Sales        COGS\n",
       "State         Market Size                         \n",
       "California    Major Market  794.125000  312.125000\n",
       "Massachusetts Major Market  566.809524   64.000000\n",
       "Nevada        Small Market  676.500000  293.000000\n",
       "New York      Major Market  770.461538  285.038462"
      ]
     },
     "execution_count": 98,
     "metadata": {
      "tags": []
     },
     "output_type": "execute_result"
    }
   ],
   "source": [
    "d14"
   ]
  },
  {
   "cell_type": "code",
   "execution_count": null,
   "metadata": {
    "id": "ls4eZ6X6vZgt",
    "outputId": "dcf89e52-0156-4653-8a6c-8d2ce7206643"
   },
   "outputs": [
    {
     "data": {
      "image/png": "[encoded data removed]",
      "text/plain": [
       "<Figure size 432x288 with 1 Axes>"
      ]
     },
     "metadata": {
      "needs_background": "light",
      "tags": []
     },
     "output_type": "display_data"
    }
   ],
   "source": [
    "d14.plot(kind='bar',stacked=True)\n",
    "plt.show()"
   ]
  },
  {
   "cell_type": "code",
   "execution_count": null,
   "metadata": {
    "id": "xiJd8cl0vZgu",
    "outputId": "acbb18cf-186c-410f-e391-0683a79eaf53"
   },
   "outputs": [
    {
     "data": {
      "image/png": "[encoded data removed]",
      "text/plain": [
       "<Figure size 432x288 with 1 Axes>"
      ]
     },
     "metadata": {
      "needs_background": "light",
      "tags": []
     },
     "output_type": "display_data"
    }
   ],
   "source": [
    "d14.plot(kind='line',marker='d')\n",
    "plt.xticks(rotation=90)\n",
    "plt.show()"
   ]
  },
  {
   "cell_type": "markdown",
   "metadata": {
    "id": "A3c434-ZvZgu"
   },
   "source": [
    "### 6) Seaborn - Depict the Market vs Budget Sales on a Violin Plot based on Product Type where product is Colombian or Darjeeling"
   ]
  },
  {
   "cell_type": "code",
   "execution_count": null,
   "metadata": {
    "id": "9K5-JFT1vZgu",
    "outputId": "3fbe8a89-e64f-4055-aee8-67a36089bd92"
   },
   "outputs": [
    {
     "data": {
      "text/plain": [
       "Colombian            480\n",
       "Caffe Mocha          480\n",
       "Lemon                480\n",
       "Decaf Espresso       408\n",
       "Chamomile            384\n",
       "Decaf Irish Cream    384\n",
       "Darjeeling           384\n",
       "Green Tea            288\n",
       "Earl Grey            288\n",
       "Caffe Latte          216\n",
       "Mint                 192\n",
       "Amaretto             192\n",
       "Regular Espresso      72\n",
       "Name: Product, dtype: int64"
      ]
     },
     "execution_count": 108,
     "metadata": {
      "tags": []
     },
     "output_type": "execute_result"
    }
   ],
   "source": [
    "df['Product'].value_counts()"
   ]
  },
  {
   "cell_type": "code",
   "execution_count": null,
   "metadata": {
    "id": "b93x47PqvZgu",
    "outputId": "cc392c4f-7b13-47f6-84d8-ba793b9146de"
   },
   "outputs": [
    {
     "data": {
      "text/plain": [
       "Espresso      1176\n",
       "Coffee        1056\n",
       "Herbal Tea    1056\n",
       "Tea            960\n",
       "Name: Product Type, dtype: int64"
      ]
     },
     "execution_count": 112,
     "metadata": {
      "tags": []
     },
     "output_type": "execute_result"
    }
   ],
   "source": [
    "df['Product Type'].value_counts()"
   ]
  },
  {
   "cell_type": "code",
   "execution_count": null,
   "metadata": {
    "id": "8Et90VCovZgv",
    "outputId": "55f9697c-4c73-4910-8907-1af110015c3d"
   },
   "outputs": [
    {
     "data": {
      "text/plain": [
       "(864, 20)"
      ]
     },
     "execution_count": 109,
     "metadata": {
      "tags": []
     },
     "output_type": "execute_result"
    }
   ],
   "source": [
    "d15 = df[(df['Product']=='Colombian') | (df['Product']=='Darjeeling')]\n",
    "d15.shape"
   ]
  },
  {
   "cell_type": "code",
   "execution_count": null,
   "metadata": {
    "id": "3CFeh_C1vZgv"
   },
   "outputs": [],
   "source": [
    "import seaborn as sns"
   ]
  },
  {
   "cell_type": "code",
   "execution_count": null,
   "metadata": {
    "id": "dO2z696hvZgv",
    "outputId": "cbae5f18-9b03-46da-a3c6-08b94a319531"
   },
   "outputs": [
    {
     "data": {
      "image/png": "[encoded data removed]",
      "text/plain": [
       "<Figure size 432x288 with 1 Axes>"
      ]
     },
     "metadata": {
      "needs_background": "light",
      "tags": []
     },
     "output_type": "display_data"
    }
   ],
   "source": [
    "sns.violinplot(x='Market',y='Budget Sales',data=d15,hue='Product Type')\n",
    "plt.show()"
   ]
  },
  {
   "cell_type": "code",
   "execution_count": null,
   "metadata": {
    "id": "lZc0SpXbvZgv"
   },
   "outputs": [],
   "source": []
  },
  {
   "cell_type": "code",
   "execution_count": null,
   "metadata": {
    "id": "eloeT5w1vZgv"
   },
   "outputs": [],
   "source": []
  },
  {
   "cell_type": "code",
   "execution_count": null,
   "metadata": {
    "id": "wdOYxc-dvZgw"
   },
   "outputs": [],
   "source": []
  }
 ],
 "metadata": {
  "colab": {
   "name": "CoffeeSales_dataset_Project_MWF-10-11.30am.ipynb",
   "provenance": []
  },
  "kernelspec": {
   "display_name": "Python 3",
   "language": "python",
   "name": "python3"
  },
  "language_info": {
   "codemirror_mode": {
    "name": "ipython",
    "version": 3
   },
   "file_extension": ".py",
   "mimetype": "text/x-python",
   "name": "python",
   "nbconvert_exporter": "python",
   "pygments_lexer": "ipython3",
   "version": "3.8.8"
  }
 },
 "nbformat": 4,
 "nbformat_minor": 1
}
